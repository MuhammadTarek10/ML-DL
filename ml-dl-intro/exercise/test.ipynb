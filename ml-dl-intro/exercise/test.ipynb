{
 "cells": [
  {
   "cell_type": "code",
   "execution_count": 1,
   "metadata": {},
   "outputs": [],
   "source": [
    "import pandas as pd\n",
    "import matplotlib.pyplot as plt\n",
    "import torch\n",
    "import torch.nn as nn\n",
    "import torch.optim as optim\n",
    "#from tqdm.notebook import tqdm"
   ]
  },
  {
   "cell_type": "code",
   "execution_count": 10,
   "metadata": {},
   "outputs": [
    {
     "data": {
      "text/html": [
       "<div>\n",
       "<style scoped>\n",
       "    .dataframe tbody tr th:only-of-type {\n",
       "        vertical-align: middle;\n",
       "    }\n",
       "\n",
       "    .dataframe tbody tr th {\n",
       "        vertical-align: top;\n",
       "    }\n",
       "\n",
       "    .dataframe thead th {\n",
       "        text-align: right;\n",
       "    }\n",
       "</style>\n",
       "<table border=\"1\" class=\"dataframe\">\n",
       "  <thead>\n",
       "    <tr style=\"text-align: right;\">\n",
       "      <th></th>\n",
       "      <th>x</th>\n",
       "      <th>y</th>\n",
       "    </tr>\n",
       "  </thead>\n",
       "  <tbody>\n",
       "    <tr>\n",
       "      <th>0</th>\n",
       "      <td>34</td>\n",
       "      <td>36.951713</td>\n",
       "    </tr>\n",
       "    <tr>\n",
       "      <th>1</th>\n",
       "      <td>77</td>\n",
       "      <td>75.385850</td>\n",
       "    </tr>\n",
       "    <tr>\n",
       "      <th>2</th>\n",
       "      <td>70</td>\n",
       "      <td>72.652601</td>\n",
       "    </tr>\n",
       "    <tr>\n",
       "      <th>3</th>\n",
       "      <td>55</td>\n",
       "      <td>53.178152</td>\n",
       "    </tr>\n",
       "    <tr>\n",
       "      <th>4</th>\n",
       "      <td>14</td>\n",
       "      <td>20.836313</td>\n",
       "    </tr>\n",
       "  </tbody>\n",
       "</table>\n",
       "</div>"
      ],
      "text/plain": [
       "    x          y\n",
       "0  34  36.951713\n",
       "1  77  75.385850\n",
       "2  70  72.652601\n",
       "3  55  53.178152\n",
       "4  14  20.836313"
      ]
     },
     "execution_count": 10,
     "metadata": {},
     "output_type": "execute_result"
    }
   ],
   "source": [
    "train_data = pd.read_csv(\"./train.csv\")\n",
    "test_data = pd.read_csv(\"./test.csv\")\n",
    "\n",
    "train_data.head()"
   ]
  },
  {
   "cell_type": "code",
   "execution_count": 7,
   "metadata": {},
   "outputs": [],
   "source": [
    "from sklearn.linear_model import LinearRegression\n",
    "regressor = LinearRegression()"
   ]
  },
  {
   "cell_type": "code",
   "execution_count": 17,
   "metadata": {},
   "outputs": [],
   "source": [
    "def plot_predictions(train_data: torch.Tensor,\n",
    "                     train_labels: torch.Tensor,\n",
    "                     test_data: torch.Tensor,\n",
    "                     test_labels: torch.Tensor,\n",
    "                     predictions: torch.Tensor = None):\n",
    "    plt.figure(figsize=(5, 4))\n",
    "\n",
    "    plt.scatter(train_data, train_labels, c=\"b\", s=4, label=\"Training data\")\n",
    "    \n",
    "    plt.scatter(test_data, test_labels, c=\"g\", s=4, label=\"Testing data\")\n",
    "\n",
    "    if predictions is not None:\n",
    "        plt.scatter(test_data, predictions, c=\"r\", s=4, label=\"Predictions\")\n",
    "        \n",
    "    plt.legend(prop={\"size\": 14});"
   ]
  },
  {
   "cell_type": "code",
   "execution_count": 18,
   "metadata": {},
   "outputs": [
    {
     "data": {
      "image/png": "[encoded data removed]",
      "text/plain": [
       "<Figure size 500x400 with 1 Axes>"
      ]
     },
     "metadata": {},
     "output_type": "display_data"
    }
   ],
   "source": [
    "splitter = int(0.8 * len(X))\n",
    "X_train, y_train = X[:splitter], y[:splitter]\n",
    "X_test, y_test = X[splitter:], y[splitter:]\n",
    "\n",
    "#print(f\"Train Length: {len(X_train)}\")\n",
    "#print(f\"Test Length: {len(X_test)}\")\n",
    "\n",
    "\n",
    "plot_predictions(train_data=X_train, train_labels=y_train, test_data=X_test, test_labels=y_test)"
   ]
  },
  {
   "cell_type": "code",
   "execution_count": 12,
   "metadata": {},
   "outputs": [
    {
     "name": "stdout",
     "output_type": "stream",
     "text": [
      "          y        x1        x2        x3        x4        x5        x6  \\\n",
      "0  7.824944 -0.887890  0.949137  0.867185  0.905457 -0.564753  1.064772   \n",
      "1 -0.284809  0.402109 -0.109812  0.353789 -0.368996  0.484929 -0.872589   \n",
      "2 -5.551631 -0.114545 -1.603722  0.284455 -0.276847 -1.421414 -1.135600   \n",
      "3  0.087262  0.832631  0.443724  0.472880  1.260798  0.589971 -0.150165   \n",
      "4  0.169201  0.318175 -0.042458  0.014656  0.323378  0.425665  0.268726   \n",
      "\n",
      "         x7        x8        x9       x10  \n",
      "0  0.871957  0.073367 -0.468684 -1.518201  \n",
      "1 -0.305881 -0.284581  0.547374 -0.755235  \n",
      "2 -0.021529 -0.826239  0.647715 -2.370580  \n",
      "3  1.148314  1.034029 -0.205375 -0.488831  \n",
      "4  0.177851 -0.128694  0.110501  0.797469  \n"
     ]
    }
   ],
   "source": [
    "data: pd.DataFrame = pd.read_csv(\"data.csv\", index_col=0)\n",
    "print(data.head())\n",
    "\n",
    "data_copy = data.copy()\n",
    "X = data_copy['x1']\n",
    "y = data_copy['y']"
   ]
  },
  {
   "cell_type": "code",
   "execution_count": 14,
   "metadata": {},
   "outputs": [],
   "source": [
    "import torch\n",
    "import torch.nn as nn\n",
    "import torch.optim as optim\n",
    "\n",
    "# Create the model\n",
    "class PolynomialRegression(nn.Module):\n",
    "  def __init__(self, degree):\n",
    "    super(PolynomialRegression, self).__init__()\n",
    "    self.linear = nn.Linear(degree, 1)\n",
    "\n",
    "  def forward(self, x):\n",
    "    return self.linear(x)\n",
    "\n",
    "# Create the model\n",
    "model = PolynomialRegression(degree=2)\n",
    "\n",
    "loss_function = nn.L1Loss() # Mean Absolute Error\n",
    "\n",
    "# Create the optimizer\n",
    "optimizer = optim.SGD(model.parameters(), lr=0.01)\n",
    "\n"
   ]
  },
  {
   "cell_type": "code",
   "execution_count": 15,
   "metadata": {},
   "outputs": [],
   "source": [
    "def train(\n",
    "        model: nn.Module,\n",
    "        train_data: torch.Tensor,\n",
    "        train_labels: torch.Tensor,\n",
    "        test_data: torch.Tensor,\n",
    "        test_labels: torch.Tensor,\n",
    "        loss_function: nn.Module,\n",
    "        optimizer: torch.optim.Optimizer,\n",
    "        epochs: int,\n",
    "    ):\n",
    "    epochs_count ,train_loss_arr, test_loss_arr = [], [], []\n",
    "    for epoch in range(epochs+1):\n",
    "        model.train()\n",
    "        y_pred = model(train_data)\n",
    "        loss = loss_function(y_pred, train_labels)\n",
    "        loss.backward()\n",
    "\n",
    "        optimizer.step()\n",
    "        optimizer.zero_grad()\n",
    "\n",
    "        model.eval()\n",
    "        with torch.inference_mode():\n",
    "            y_pred = model(test_data)\n",
    "            test_loss = loss_function(y_pred, test_labels)\n",
    "\n",
    "        if epoch % 10 == 0:\n",
    "            epochs_count.append(epoch)\n",
    "            train_loss_arr.append(loss.detach().numpy())\n",
    "            test_loss_arr.append(test_loss.detach().numpy())\n",
    "            print(f\"Epoch {epoch}: MAE Loss: {loss.item():0.2f} | Test Loss: {test_loss.item():0.2f}\")\n",
    "    return epochs_count, train_loss_arr, test_loss_arr\n"
   ]
  },
  {
   "cell_type": "code",
   "execution_count": 20,
   "metadata": {},
   "outputs": [
    {
     "ename": "ValueError",
     "evalue": "could not determine the shape of object type 'Series'",
     "output_type": "error",
     "traceback": [
      "\u001b[1;31m---------------------------------------------------------------------------\u001b[0m",
      "\u001b[1;31mValueError\u001b[0m                                Traceback (most recent call last)",
      "\u001b[1;32mc:\\Users\\Hp\\Desktop\\College\\Torpedo\\ML\\ML-DL\\ml-dl-intro\\exercise\\test.ipynb Cell 9\u001b[0m line \u001b[0;36m4\n\u001b[0;32m      <a href='vscode-notebook-cell:/c%3A/Users/Hp/Desktop/College/Torpedo/ML/ML-DL/ml-dl-intro/exercise/test.ipynb#X13sZmlsZQ%3D%3D?line=1'>2</a>\u001b[0m x_train_trans \u001b[39m=\u001b[39m torch\u001b[39m.\u001b[39mtensor(X_train)\n\u001b[0;32m      <a href='vscode-notebook-cell:/c%3A/Users/Hp/Desktop/College/Torpedo/ML/ML-DL/ml-dl-intro/exercise/test.ipynb#X13sZmlsZQ%3D%3D?line=2'>3</a>\u001b[0m y_train \u001b[39m=\u001b[39m torch\u001b[39m.\u001b[39mtensor(y_train)\n\u001b[1;32m----> <a href='vscode-notebook-cell:/c%3A/Users/Hp/Desktop/College/Torpedo/ML/ML-DL/ml-dl-intro/exercise/test.ipynb#X13sZmlsZQ%3D%3D?line=3'>4</a>\u001b[0m x_test_trans  \u001b[39m=\u001b[39mtorch\u001b[39m.\u001b[39;49mtensor(X_test)\n\u001b[0;32m      <a href='vscode-notebook-cell:/c%3A/Users/Hp/Desktop/College/Torpedo/ML/ML-DL/ml-dl-intro/exercise/test.ipynb#X13sZmlsZQ%3D%3D?line=4'>5</a>\u001b[0m y_test \u001b[39m=\u001b[39m torch\u001b[39m.\u001b[39mtensor(np\u001b[39m.\u001b[39marray(y_test))\n\u001b[0;32m      <a href='vscode-notebook-cell:/c%3A/Users/Hp/Desktop/College/Torpedo/ML/ML-DL/ml-dl-intro/exercise/test.ipynb#X13sZmlsZQ%3D%3D?line=7'>8</a>\u001b[0m epochs_count, train_loss, test_loss \u001b[39m=\u001b[39m train(\n\u001b[0;32m      <a href='vscode-notebook-cell:/c%3A/Users/Hp/Desktop/College/Torpedo/ML/ML-DL/ml-dl-intro/exercise/test.ipynb#X13sZmlsZQ%3D%3D?line=8'>9</a>\u001b[0m                                         model, \n\u001b[0;32m     <a href='vscode-notebook-cell:/c%3A/Users/Hp/Desktop/College/Torpedo/ML/ML-DL/ml-dl-intro/exercise/test.ipynb#X13sZmlsZQ%3D%3D?line=9'>10</a>\u001b[0m                                         train_data\u001b[39m=\u001b[39mx_train_trans, \n\u001b[1;32m   (...)\u001b[0m\n\u001b[0;32m     <a href='vscode-notebook-cell:/c%3A/Users/Hp/Desktop/College/Torpedo/ML/ML-DL/ml-dl-intro/exercise/test.ipynb#X13sZmlsZQ%3D%3D?line=15'>16</a>\u001b[0m                                         epochs\u001b[39m=\u001b[39m\u001b[39m1000\u001b[39m\n\u001b[0;32m     <a href='vscode-notebook-cell:/c%3A/Users/Hp/Desktop/College/Torpedo/ML/ML-DL/ml-dl-intro/exercise/test.ipynb#X13sZmlsZQ%3D%3D?line=16'>17</a>\u001b[0m                                     )\n",
      "\u001b[1;31mValueError\u001b[0m: could not determine the shape of object type 'Series'"
     ]
    }
   ],
   "source": [
    "import numpy as np\n",
    "x_train_trans = torch.tensor(X_train)\n",
    "y_train = torch.tensor(y_train)\n",
    "x_test_trans  =torch.tensor(X_test)\n",
    "y_test = torch.tensor(np.array(y_test))\n",
    "\n",
    "\n",
    "epochs_count, train_loss, test_loss = train(\n",
    "                                        model, \n",
    "                                        train_data=x_train_trans, \n",
    "                                        train_labels=y_train, \n",
    "                                        test_data=x_test_trans, \n",
    "                                        test_labels=y_test, \n",
    "                                        loss_function=loss_function, \n",
    "                                        optimizer=optimizer, \n",
    "                                        epochs=1000\n",
    "                                    )"
   ]
  }
 ],
 "metadata": {
  "kernelspec": {
   "display_name": "venv",
   "language": "python",
   "name": "python3"
  },
  "language_info": {
   "codemirror_mode": {
    "name": "ipython",
    "version": 3
   },
   "file_extension": ".py",
   "mimetype": "text/x-python",
   "name": "python",
   "nbconvert_exporter": "python",
   "pygments_lexer": "ipython3",
   "version": "3.11.4"
  },
  "orig_nbformat": 4
 },
 "nbformat": 4,
 "nbformat_minor": 2
}
