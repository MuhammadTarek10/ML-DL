{
 "cells": [
  {
   "cell_type": "code",
   "execution_count": null,
   "metadata": {},
   "outputs": [],
   "source": [
    "import torch\n",
    "import torch.nn as nn\n",
    "import torch.optim as optim\n",
    "import matplotlib.pyplot as plt\n",
    "from sklearn.datasets import make_blobs\n",
    "from sklearn.model_selection import train_test_split\n",
    "\n",
    "NUM_SAMPLES = 1000\n",
    "NUM_CLASSES = 6\n",
    "NUM_FEATURES = 2\n",
    "RANDOM_SEED = 42\n"
   ]
  },
  {
   "cell_type": "code",
   "execution_count": null,
   "metadata": {},
   "outputs": [],
   "source": [
    "# CREATE MULTI-CLASS DATA\n",
    "X_blob, y_blob = make_blobs(n_samples=NUM_SAMPLES,\n",
    "                            n_features=NUM_FEATURES,\n",
    "                            centers=NUM_CLASSES,\n",
    "                            cluster_std=1.5,\n",
    "                            random_state=RANDOM_SEED\n",
    "                            )\n",
    "\n",
    "# TURN DATA INTO TENSORS\n",
    "X_blob: torch.Tensor = torch.from_numpy(X_blob).type(torch.float)\n",
    "y_blob: torch.Tensor = torch.from_numpy(y_blob).type(torch.LongTensor)\n",
    "\n",
    "print(f\"Shape of X_blob: {X_blob.shape}\")\n",
    "print(f\"Shape of y_blob: {y_blob.shape}\")"
   ]
  },
  {
   "cell_type": "code",
   "execution_count": null,
   "metadata": {},
   "outputs": [],
   "source": [
    "# SPLIT INTO TRAIN AND TEST\n",
    "X_train, X_test, y_train, y_test = train_test_split(X_blob,\n",
    "                                                    y_blob,\n",
    "                                                    test_size=0.2,\n",
    "                                                    random_state=RANDOM_SEED\n",
    "                                                    )\n",
    "\n",
    "# PLOT DATA\n",
    "plt.figure(figsize=(10, 7))\n",
    "plt.scatter(X_blob[:, 0], X_blob[:, 1], c=y_blob, cmap=plt.cm.RdYlBu);"
   ]
  }
 ],
 "metadata": {
  "kernelspec": {
   "display_name": "venv",
   "language": "python",
   "name": "python3"
  },
  "language_info": {
   "codemirror_mode": {
    "name": "ipython",
    "version": 3
   },
   "file_extension": ".py",
   "mimetype": "text/x-python",
   "name": "python",
   "nbconvert_exporter": "python",
   "pygments_lexer": "ipython3",
   "version": "3.11.4"
  },
  "orig_nbformat": 4
 },
 "nbformat": 4,
 "nbformat_minor": 2
}
