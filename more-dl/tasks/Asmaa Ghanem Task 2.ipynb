{
 "cells": [
  {
   "cell_type": "code",
   "execution_count": 50,
   "metadata": {},
   "outputs": [],
   "source": [
    "import matplotlib.pyplot as plt\n",
    "import torchvision.datasets as dts\n",
    "from torchvision.transforms import ToTensor\n",
    "from torchvision import transforms as transforms\n",
    "from torch.utils.data import Dataset\n",
    "import torch\n",
    "import torch.nn as nn\n",
    "import torch.nn.functional as F\n",
    "import torch.optim as optim\n",
    "from pathlib import Path\n",
    "from PIL import Image\n",
    "from typing import Tuple, List\n",
    "import os\n",
    "import random\n",
    "from torch.utils.data import DataLoader\n",
    "\n",
    "\n",
    "\n",
    "\n",
    "#all imports required"
   ]
  },
  {
   "cell_type": "code",
   "execution_count": 51,
   "metadata": {},
   "outputs": [],
   "source": [
    "\n",
    "class CatsDogsDataset(Dataset):\n",
    "    def __init__(self, root_dir: str, transform: transforms.Compose = None) -> None:\n",
    "        super().__init__()\n",
    "        self.root_dir = root_dir\n",
    "        self.path = list(Path(self.root_dir).glob(\"**/*.jpg\"))\n",
    "        self.transform = transform\n",
    "        self.classes, self.classes_to_idx = self.__find_classes()\n",
    "\n",
    "    def __getitem__(self, index) -> Tuple[Image.Image, int]:\n",
    "        image = self.__load_image(index)\n",
    "        class_name = self.__get_class(index)\n",
    "        class_idx = self.classes_to_idx[class_name]\n",
    "        \n",
    "        if self.transform:\n",
    "            image = self.transform(image)\n",
    "\n",
    "        return image, class_idx\n",
    "\n",
    "    def __len__(self) -> int:\n",
    "        return len(self.path)\n",
    "\n",
    "    def __find_classes(self) -> Tuple[List[str], dict]:\n",
    "        classes = sorted(entry.name for entry in os.scandir(self.root_dir) if entry.is_dir())\n",
    "        class_to_idx = {cls_name: i for i, cls_name in enumerate(classes)}\n",
    "        return classes, class_to_idx\n",
    "    \n",
    "    def __load_image(self, index: int) -> Image.Image:\n",
    "        return Image.open(self.path[index]).convert(\"RGB\")\n",
    "    \n",
    "    def __get_class(self, index: int) -> str:\n",
    "        return self.path[index].parent.name\n",
    "    \n",
    "    \n",
    "    train_transforms = transforms.Compose([\n",
    "    transforms.Resize(size=(224,224)),\n",
    "    transforms.RandomRotation(90),\n",
    "    transforms.ToTensor(),\n",
    "    transforms.Normalize(std=(0.5,0.5,0.5),mean=(0.5,0.5,0.5))\n",
    "    ])\n",
    "\n",
    "    \n",
    "    test_transform= transforms.Compose([\n",
    "    transforms.Resize(size=(224,224)),\n",
    "    transforms.ToTensor()\n",
    "    ])\n",
    "\n",
    "\n"
   ]
  },
  {
   "cell_type": "code",
   "execution_count": 49,
   "metadata": {},
   "outputs": [
    {
     "data": {
      "text/plain": [
       "(13338, 11662)"
      ]
     },
     "execution_count": 49,
     "metadata": {},
     "output_type": "execute_result"
    }
   ],
   "source": [
    "\n",
    "train_cd = CatsDogsDataset(root_dir=\"data/train\", transform= train_transforms)\n",
    "test_cd = CatsDogsDataset(root_dir=\"data/test\", transform = test_transforms)\n",
    "\n",
    "#len(train_cd), len(test_cd)"
   ]
  },
  {
   "cell_type": "code",
   "execution_count": 56,
   "metadata": {},
   "outputs": [
    {
     "name": "stdout",
     "output_type": "stream",
     "text": [
      "Train Loader: <torch.utils.data.dataloader.DataLoader object at 0x000001ADCF6AD890> | Size: 417\n",
      "Test Loader: <torch.utils.data.dataloader.DataLoader object at 0x000001ADCF6AC550> | Size: 365\n"
     ]
    }
   ],
   "source": [
    "train_loader = torch.utils.data.DataLoader(train_cd, batch_size=32, shuffle=True)\n",
    "test_loader = torch.utils.data.DataLoader(test_cd, batch_size=32, shuffle=False)\n",
    "data_iterator = iter(train_loader)\n",
    "images, labels = next(data_iterator)\n",
    "\n",
    "image = random.choice(images)\n",
    "\n"
   ]
  },
  {
   "cell_type": "code",
   "execution_count": null,
   "metadata": {},
   "outputs": [],
   "source": []
  },
  {
   "cell_type": "code",
   "execution_count": null,
   "metadata": {},
   "outputs": [],
   "source": []
  }
 ],
 "metadata": {
  "kernelspec": {
   "display_name": "venv",
   "language": "python",
   "name": "python3"
  },
  "language_info": {
   "codemirror_mode": {
    "name": "ipython",
    "version": 3
   },
   "file_extension": ".py",
   "mimetype": "text/x-python",
   "name": "python",
   "nbconvert_exporter": "python",
   "pygments_lexer": "ipython3",
   "version": "3.11.4"
  },
  "orig_nbformat": 4
 },
 "nbformat": 4,
 "nbformat_minor": 2
}
